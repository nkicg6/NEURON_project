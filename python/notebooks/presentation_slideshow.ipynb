{
 "cells": [
  {
   "cell_type": "markdown",
   "metadata": {
    "slideshow": {
     "slide_type": "slide"
    }
   },
   "source": [
    "# Measuring the effects of axonal adaptations on firing properties of Mitral Cells\n",
    "\n",
    "The effects of axonal adaptations on mitral cell firing are not well studied. \n",
    "\n",
    "I wanted to design a realistic mitral cell with myelinated axonal domains to determine how changes and adaptations in these domains influence action potential initiation and propagation."
   ]
  },
  {
   "cell_type": "markdown",
   "metadata": {
    "slideshow": {
     "slide_type": "slide"
    }
   },
   "source": [
    "## Model design\n",
    "- mitral cell model (big soma and dendrite, active channels on both)\n",
    "- based on literature and my experimental data\n",
    "- implemented and simulated using the Python 3.8 bindings NEURON 7.7"
   ]
  },
  {
   "cell_type": "markdown",
   "metadata": {
    "slideshow": {
     "slide_type": "slide"
    }
   },
   "source": [
    "# AIS\n",
    "\n",
    "\n",
    "- Na<sub>v</sub>1.6\n",
    "- Na<sub>v</sub>1.2 \n",
    "- K<sub>v</sub>\n",
    "- passive leak channels \n",
    "- The AIS in cortex displays dramatic ion channel distribution changes along its length ([Hu et al. 2009; Figure 6](https://www.nature.com/articles/nn.2359))\n",
    "    \n",
    "<img src=\"img/Hu_Shu_2009_fig5.png\" alt=\"Hu et al. 2009\" width=500/>\n"
   ]
  },
  {
   "cell_type": "markdown",
   "metadata": {
    "slideshow": {
     "slide_type": "subslide"
    }
   },
   "source": [
    "```python\n",
    "\n",
    "def simple_ais_channel_gradient(self, gmap):\n",
    "    \"\"\"temporary method. Uses a linear increase or decrease of channel density based on nseg. \n",
    "    Need to make it more realistic based on Hu et al. 2009 Figure 5\"\"\"\n",
    "    a = np.linspace(gmap[\"min\"], gmap[\"max\"], self.ais.nseg)\n",
    "    if gmap[\"reverse\"] == True:\n",
    "        return a[::-1]\n",
    "    return a\n",
    "\n",
    "```\n",
    "Where `gmap` is a dictionary/map containing the keys `min`, `max`, and `reverse`. \n",
    "\n",
    "```python\n",
    "nav16_gmap = {\"min\":0, \"max\":2500, \"nseg\":15}\n",
    "\n",
    "```\n",
    "This function is used to generate a range of numbers representing the conductance changes along the AIS from `min` to `max` in `nseg` number of steps (default `nseg` is 15 for the AIS)."
   ]
  },
  {
   "cell_type": "markdown",
   "metadata": {
    "slideshow": {
     "slide_type": "subslide"
    }
   },
   "source": [
    "```python\n",
    "\n",
    "def _ais_biophysics(self):\n",
    "    \"\"\"setup biophysics for ais. Channel distributions will be defined as gradients along segments.\"\"\"\n",
    "    self.ais.insert(\"na12\")\n",
    "    self.ais.insert(\"na16\")\n",
    "    self.ais.insert(\"kv\")\n",
    "    self.ais.insert(\"kd\")\n",
    "    na12_gradient = self.simple_ais_channel_gradient(self.gnav12_dist)\n",
    "    na16_gradient = self.simple_ais_channel_gradient(self.gnav16_dist)\n",
    "    for ind, seg in enumerate(self.ais):\n",
    "        seg.gbar_na16 = na16_gradient[ind]\n",
    "        seg.gbar_kd = 0\n",
    "        seg.gbar_kv = self.ais_kv_gbar\n",
    "    for ind, seg in enumerate(self.ais):\n",
    "        seg.gbar_na12 = na12_gradient[ind]\n",
    "\n",
    "```"
   ]
  },
  {
   "cell_type": "markdown",
   "metadata": {
    "slideshow": {
     "slide_type": "slide"
    }
   },
   "source": [
    "# Myelin sheath\n",
    "\n",
    "[Zbili et al. 2020](https://www.frontiersin.org/articles/10.3389/fncel.2020.00040/full) modeled the myelin membrane using the `extracellular` mechanism to add another layer of RC circuit to the internodes (Zbili et al. 2020 Sup. Fig 3):\n",
    "\n",
    "<img src=\"img/sup_fig_3_zbili2020.jpg\" alt=\"Zbili et al. 2020\" width=600/>\n",
    "Passive conductance of G<sub>my</sub> and C<sub>my</sub> depend on the number of myelinated wraps, and since each \"wrap\" is a bilayer, relative to the axon each sheath halves the G and C:\n",
    "\n",
    "G<sub>my</sub>= G<sub>ax</sub>/2 and C<sub>my</sub>=C<sub>ax</sub>/2. "
   ]
  },
  {
   "cell_type": "markdown",
   "metadata": {
    "slideshow": {
     "slide_type": "subslide"
    }
   },
   "source": [
    "Using a high magnification image from the lateral olfactory tract (LOT), I can count ~16 wraps spanning 173nm. \n",
    "\n",
    "<img src=\"img/HM_myelin_sheath.png\" alt=\"LOT myelin sheath, unpublished data NMG\" width=450/>\n"
   ]
  },
  {
   "cell_type": "markdown",
   "metadata": {
    "slideshow": {
     "slide_type": "subslide"
    }
   },
   "source": [
    "I implemented the myelin sheath based closely on the [published model](https://senselab.med.yale.edu/ModelDB/showmodel?model=263053&file=/zbili_debanne/myelinated_axon_1.hoc#tabs-2) ([Zbili et al. 2020](https://www.frontiersin.org/articles/10.3389/fncel.2020.00040/full)):\n",
    "\n",
    "```python\n",
    "\n",
    "\n",
    "def _myelinated_segments_biophysics(self):\n",
    "    for myelin_section in self.myelinated_segs_list:\n",
    "        myelin_section.insert(\"extracellular\")\n",
    "        myelin_section.xraxial[0] = 120663\n",
    "        myelin_section.xraxial[1] = 10000000000\n",
    "        myelin_section.xg[0] = 0.0000333 / (self.n_myelin_wraps * 2)\n",
    "        myelin_section.xg[1] = 10000000000\n",
    "        myelin_section.xc[0] = 1 / (self.n_myelin_wraps * 2)\n",
    "        myelin_section.xc[1] = 0.0000000001\n",
    "        myelin_section.e_extracellular = 0\n",
    "        myelin_section.Ra = 150\n",
    "        for myelin_seg in myelin_section:\n",
    "            myelin_seg.cm = 0.012\n",
    "            myelin_seg.g_pas = 1 / 100000\n",
    "\n",
    "```"
   ]
  },
  {
   "cell_type": "markdown",
   "metadata": {
    "slideshow": {
     "slide_type": "subslide"
    }
   },
   "source": [
    "**Disclaimer:** From the [documentation](https://www.neuron.yale.edu/neuron/static/py_doc/modelspec/programmatic/mechanisms/mech.html):\n",
    "\n",
    "    Extracellular potentials do a great deal of violence to one’s intuition and it is important that the user carefully consider the results of simulations that use them. It is best to start out believing that there are bugs in the method and attempt to prove their existence.\n",
    "**I have not done that.**"
   ]
  },
  {
   "cell_type": "markdown",
   "metadata": {
    "slideshow": {
     "slide_type": "slide"
    }
   },
   "source": [
    "# Nodes of Ranvier\n",
    "\n",
    "Nodes of Ranvier are composed of 3 segments (`nseg`) and have three types of channels: \n",
    "\n",
    "```python\n",
    "def _node_biophysics(self):\n",
    "    for node_section in self.nodes_list:\n",
    "        node_section.insert(\"na16\")\n",
    "        node_section.insert(\"kd\")\n",
    "        node_section.insert(\"kv\")\n",
    "        node_section.Ra = 150\n",
    "        node_section.cm = 1\n",
    "        for node_seg in node_section:\n",
    "            node_seg.g_pas = 0.0000333\n",
    "            node_seg.gbar_na16 = self.node_gbar_na16\n",
    "            node_seg.ena = 60\n",
    "            node_seg.gbar_kd = self.node_gbar_kd\n",
    "            node_seg.gbar_kv = self.node_gbar_kv\n",
    "            node_seg.ek = -90\n",
    "            node_seg.e_pas = -38.3\n",
    "```"
   ]
  },
  {
   "cell_type": "markdown",
   "metadata": {
    "slideshow": {
     "slide_type": "slide"
    }
   },
   "source": [
    "# How does AIS length affect AP firing properties in a Model of a mitral cell?"
   ]
  }
 ],
 "metadata": {
  "celltoolbar": "Slideshow",
  "kernelspec": {
   "display_name": "Python 3",
   "language": "python",
   "name": "python3"
  },
  "language_info": {
   "codemirror_mode": {
    "name": "ipython",
    "version": 3
   },
   "file_extension": ".py",
   "mimetype": "text/x-python",
   "name": "python",
   "nbconvert_exporter": "python",
   "pygments_lexer": "ipython3",
   "version": "3.7.7"
  }
 },
 "nbformat": 4,
 "nbformat_minor": 4
}
